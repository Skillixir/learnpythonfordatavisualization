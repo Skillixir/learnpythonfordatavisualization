{
 "cells": [
  {
   "cell_type": "code",
   "execution_count": 35,
   "metadata": {},
   "outputs": [
    {
     "name": "stdout",
     "output_type": "stream",
     "text": [
      "hello\n",
      "good\n"
     ]
    },
    {
     "data": {
      "text/plain": [
       "0"
      ]
     },
     "execution_count": 35,
     "metadata": {},
     "output_type": "execute_result"
    }
   ],
   "source": [
    "# to convert multiple lines into comments, just use CTRL + /\n",
    "# I want to divide a number by another\n",
    "print(\"hello\")\n",
    "print(\"good\")\n",
    "9%3"
   ]
  },
  {
   "cell_type": "code",
   "execution_count": 36,
   "metadata": {},
   "outputs": [
    {
     "name": "stdout",
     "output_type": "stream",
     "text": [
      "I could have code like this.\n",
      "hahah what about this one?\n"
     ]
    }
   ],
   "source": [
    "print(\"I could have code like this.\") # and the comment after is ignored\n",
    "print(\"hahah what about this one?\") # and this text will be ignore by Python"
   ]
  },
  {
   "cell_type": "code",
   "execution_count": 2,
   "metadata": {},
   "outputs": [
    {
     "data": {
      "text/plain": [
       "1"
      ]
     },
     "execution_count": 2,
     "metadata": {},
     "output_type": "execute_result"
    }
   ],
   "source": [
    "9%4"
   ]
  },
  {
   "cell_type": "code",
   "execution_count": 3,
   "metadata": {},
   "outputs": [
    {
     "data": {
      "text/plain": [
       "0"
      ]
     },
     "execution_count": 3,
     "metadata": {},
     "output_type": "execute_result"
    }
   ],
   "source": [
    "8%2\n"
   ]
  },
  {
   "cell_type": "code",
   "execution_count": 39,
   "metadata": {},
   "outputs": [
    {
     "name": "stdout",
     "output_type": "stream",
     "text": [
      "I am 30.0 right now hm, actually I am 35\n"
     ]
    }
   ],
   "source": [
    "print(\"I am\", 25 + 30 / 6, \"right now\", \"hm, actually I am\", 35)"
   ]
  },
  {
   "cell_type": "code",
   "execution_count": 5,
   "metadata": {},
   "outputs": [
    {
     "name": "stdout",
     "output_type": "stream",
     "text": [
      "Hens 30.0 too many?\n"
     ]
    }
   ],
   "source": [
    "print(\"Hens\", 25 + 30 / 6, \"too many?\")"
   ]
  },
  {
   "cell_type": "code",
   "execution_count": 6,
   "metadata": {},
   "outputs": [
    {
     "name": "stdout",
     "output_type": "stream",
     "text": [
      "Hens 30.0 too many?\n"
     ]
    }
   ],
   "source": [
    "print(\"Hens\", str(25 + 30 / 6), \"too many?\")"
   ]
  },
  {
   "cell_type": "code",
   "execution_count": 7,
   "metadata": {},
   "outputs": [
    {
     "name": "stdout",
     "output_type": "stream",
     "text": [
      "I am 35 years old\n"
     ]
    }
   ],
   "source": [
    "print(\"I am\", 30+5, \"years old\")"
   ]
  },
  {
   "cell_type": "code",
   "execution_count": 8,
   "metadata": {},
   "outputs": [
    {
     "name": "stdout",
     "output_type": "stream",
     "text": [
      "False\n"
     ]
    }
   ],
   "source": [
    "print(3 + 2 < 5 - 7)"
   ]
  },
  {
   "cell_type": "code",
   "execution_count": 9,
   "metadata": {},
   "outputs": [
    {
     "name": "stdout",
     "output_type": "stream",
     "text": [
      "What is 3 + 2? 5\n"
     ]
    }
   ],
   "source": [
    "print(\"What is 3 + 2?\", 3 + 2)"
   ]
  },
  {
   "cell_type": "code",
   "execution_count": 10,
   "metadata": {},
   "outputs": [
    {
     "name": "stdout",
     "output_type": "stream",
     "text": [
      "Is it greater? True\n"
     ]
    }
   ],
   "source": [
    "print(\"Is it greater?\", 5 > -2)"
   ]
  },
  {
   "cell_type": "code",
   "execution_count": 11,
   "metadata": {},
   "outputs": [
    {
     "name": "stdout",
     "output_type": "stream",
     "text": [
      "Is it greater or equal? True\n",
      "Is it less or equal? False\n"
     ]
    }
   ],
   "source": [
    "print(\"Is it greater or equal?\", 5 >= -2)\n",
    "print(\"Is it less or equal?\", 5 <= -2)"
   ]
  },
  {
   "cell_type": "code",
   "execution_count": 12,
   "metadata": {},
   "outputs": [
    {
     "name": "stdout",
     "output_type": "stream",
     "text": [
      "There are 71 candidates in total.\n",
      "Only around 48 of them will remain after Week 4.\n",
      "So the number of dropouts by Week 4 could be 23 or more\n",
      "Top 10 most active participants will win prizes.\n",
      "Each project group will consist of 3 participants.\n",
      "There will be approximately 16.0 on this course.\n",
      "The maximum possible score is 600 on this course.\n"
     ]
    }
   ],
   "source": [
    "candidates = 71\n",
    "available_places = 48\n",
    "dropouts = 23\n",
    "prize_winners = 10\n",
    "project_group_size = 3 \n",
    "project_groups = available_places/project_group_size\n",
    "sessions = 12\n",
    "tokens_per_session = 50\n",
    "maximum_score_possible = sessions * tokens_per_session\n",
    "\n",
    "\n",
    "print(\"There are\", candidates, \"candidates in total.\" )\n",
    "print(\"Only around\", available_places, \"of them will remain after Week 4.\")\n",
    "print(\"So the number of dropouts by Week 4 could be\", dropouts, \"or more\")\n",
    "print(\"Top\", prize_winners, \"most active participants will win prizes.\")\n",
    "print(\"Each project group will consist of\", project_group_size, \"participants.\")\n",
    "print(\"There will be approximately\",project_groups, \"on this course.\")\n",
    "print(\"The maximum possible score is\", maximum_score_possible, \"on this course.\")"
   ]
  },
  {
   "cell_type": "code",
   "execution_count": 13,
   "metadata": {},
   "outputs": [
    {
     "name": "stdout",
     "output_type": "stream",
     "text": [
      "Let's talk about Qobiljon Yunusov.\n",
      "He's 68 inches tall.\n",
      "He's 165 pounds heavy.\n",
      "Actually that's not too heavy.\n",
      "He's got dark eyes and dark hair.\n",
      "His physique is usually athletic depending on how often he exercises.\n",
      "If I add 35, 68, and 165 I get 268.\n"
     ]
    }
   ],
   "source": [
    "my_name = 'Qobiljon Yunusov'\n",
    "my_age = 35 # I could be lying\n",
    "my_height = 68 # inches\n",
    "my_weight = 165 # lbs\n",
    "my_eyes = 'dark'\n",
    "my_physique = 'athletic'\n",
    "my_hair = 'dark'\n",
    "\n",
    "print(f\"Let's talk about {my_name}.\")\n",
    "print(f\"He's {my_height} inches tall.\")\n",
    "print(f\"He's {my_weight} pounds heavy.\")\n",
    "print(\"Actually that's not too heavy.\")\n",
    "print(f\"He's got {my_eyes} eyes and {my_hair} hair.\")\n",
    "print(f\"His physique is usually {my_physique} depending on how often he exercises.\")\n",
    "\n",
    "# this line is tricky, try to get it exactly right\n",
    "total = my_age + my_height + my_weight\n",
    "print(f\"If I add {my_age}, {my_height}, and {my_weight} I get {total}.\")"
   ]
  },
  {
   "cell_type": "code",
   "execution_count": 14,
   "metadata": {
    "scrolled": false
   },
   "outputs": [
    {
     "name": "stdout",
     "output_type": "stream",
     "text": [
      "type whatever you want\n"
     ]
    }
   ],
   "source": [
    "print(\"type whatever you want\")"
   ]
  },
  {
   "cell_type": "code",
   "execution_count": 15,
   "metadata": {},
   "outputs": [
    {
     "name": "stdout",
     "output_type": "stream",
     "text": [
      "type whatever\n"
     ]
    }
   ],
   "source": [
    "print(\"type whatever\")"
   ]
  },
  {
   "cell_type": "code",
   "execution_count": 16,
   "metadata": {},
   "outputs": [
    {
     "name": "stdout",
     "output_type": "stream",
     "text": [
      "Here is hundred 100\n"
     ]
    }
   ],
   "source": [
    "print(\"Here is hundred\", 100)"
   ]
  },
  {
   "cell_type": "code",
   "execution_count": 17,
   "metadata": {},
   "outputs": [
    {
     "name": "stdout",
     "output_type": "stream",
     "text": [
      "I am 25 years old\n"
     ]
    }
   ],
   "source": [
    "print(\"I am\", 25, \"years old\")"
   ]
  },
  {
   "cell_type": "code",
   "execution_count": 18,
   "metadata": {},
   "outputs": [
    {
     "name": "stdout",
     "output_type": "stream",
     "text": [
      "25\n"
     ]
    }
   ],
   "source": [
    "age = 25\n",
    "age_string = str(age)\n",
    "print(age_string)"
   ]
  },
  {
   "cell_type": "code",
   "execution_count": 19,
   "metadata": {},
   "outputs": [
    {
     "data": {
      "text/plain": [
       "str"
      ]
     },
     "execution_count": 19,
     "metadata": {},
     "output_type": "execute_result"
    }
   ],
   "source": [
    "type(age_string)"
   ]
  },
  {
   "cell_type": "code",
   "execution_count": 20,
   "metadata": {},
   "outputs": [
    {
     "name": "stdout",
     "output_type": "stream",
     "text": [
      "255\n"
     ]
    }
   ],
   "source": [
    "print(age_string +\"5\")"
   ]
  },
  {
   "cell_type": "code",
   "execution_count": 21,
   "metadata": {},
   "outputs": [
    {
     "name": "stdout",
     "output_type": "stream",
     "text": [
      "True\n"
     ]
    }
   ],
   "source": [
    "print(5<10)"
   ]
  },
  {
   "cell_type": "code",
   "execution_count": 4,
   "metadata": {
    "scrolled": true
   },
   "outputs": [
    {
     "name": "stdout",
     "output_type": "stream",
     "text": [
      "Hi, how are you\n",
      "\n",
      "\n",
      "\t\t\t\t\t\tI am well thanks\n"
     ]
    }
   ],
   "source": [
    "print(\"Hi, how are you\")\n",
    "print(\"\\n\")\n",
    "print(\"\\t\\t\\t\\t\\t\\tI am well thanks\")"
   ]
  },
  {
   "cell_type": "code",
   "execution_count": null,
   "metadata": {},
   "outputs": [],
   "source": []
  },
  {
   "cell_type": "code",
   "execution_count": null,
   "metadata": {},
   "outputs": [],
   "source": []
  }
 ],
 "metadata": {
  "kernelspec": {
   "display_name": "Python 3",
   "language": "python",
   "name": "python3"
  },
  "language_info": {
   "codemirror_mode": {
    "name": "ipython",
    "version": 3
   },
   "file_extension": ".py",
   "mimetype": "text/x-python",
   "name": "python",
   "nbconvert_exporter": "python",
   "pygments_lexer": "ipython3",
   "version": "3.8.5"
  }
 },
 "nbformat": 4,
 "nbformat_minor": 4
}
